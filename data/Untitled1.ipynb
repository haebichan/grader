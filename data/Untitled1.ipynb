{
 "cells": [
  {
   "cell_type": "code",
   "execution_count": 1,
   "metadata": {},
   "outputs": [
    {
     "name": "stdout",
     "output_type": "stream",
     "text": [
      "['DDE0526B-7DA4-80E8-C2A6-D097F3826029'\n",
      " '2B806EF6-A590-1C00-F0C5-1469E3B2152E'\n",
      " '1F51E050-78F7-F270-1B90-ED1BC0376763'\n",
      " 'EFDA9F93-D0C3-864F-B0F6-2E9AA3E05E31'\n",
      " '2B806EF6-A590-1C00-F0C5-1469E3B2152E'\n",
      " 'DDE0526B-7DA4-80E8-C2A6-D097F3826029'\n",
      " '6D2AB78F-44F4-2E8B-5C5E-B79119BC7EAC'\n",
      " '6D2AB78F-44F4-2E8B-5C5E-B79119BC7EAC'\n",
      " '247B105C-2067-A7AA-2CBE-B65278128C96'\n",
      " '1F51E050-78F7-F270-1B90-ED1BC0376763'\n",
      " '25197F10-E9E9-4C50-63F8-6C896975AAE2'\n",
      " 'DE88902E-C7A7-E37A-CFA7-F2C8F2D219F2'\n",
      " '247B105C-2067-A7AA-2CBE-B65278128C96'\n",
      " '5AB0D44C-86FF-2DE6-B096-B0F5D029E430'\n",
      " '42A3C4F0-7032-7368-2D67-989735754020'\n",
      " 'DE88902E-C7A7-E37A-CFA7-F2C8F2D219F2'\n",
      " '1F51E050-78F7-F270-1B90-ED1BC0376763'\n",
      " '25197F10-E9E9-4C50-63F8-6C896975AAE2'\n",
      " 'DE88902E-C7A7-E37A-CFA7-F2C8F2D219F2'\n",
      " '25197F10-E9E9-4C50-63F8-6C896975AAE2'\n",
      " '247B105C-2067-A7AA-2CBE-B65278128C96'\n",
      " '247B105C-2067-A7AA-2CBE-B65278128C96'\n",
      " '5AB0D44C-86FF-2DE6-B096-B0F5D029E430']\n"
     ]
    },
    {
     "name": "stderr",
     "output_type": "stream",
     "text": [
      "/Users/Haebichan/anaconda3/lib/python3.6/site-packages/ipykernel_launcher.py:6: SettingWithCopyWarning: \n",
      "A value is trying to be set on a copy of a slice from a DataFrame.\n",
      "Try using .loc[row_indexer,col_indexer] = value instead\n",
      "\n",
      "See the caveats in the documentation: http://pandas.pydata.org/pandas-docs/stable/indexing.html#indexing-view-versus-copy\n",
      "  \n"
     ]
    }
   ],
   "source": [
    "import pandas as pd\n",
    "df = pd.read_csv('/Users/Haebichan/Desktop/grader/data/grades.csv')\n",
    "df.head(2)\n",
    "df1 = df.iloc[:,[0,1,3,5]]\n",
    "df1.head(2)\n",
    "df1['final'] = df1.apply(lambda row: (row[1] + row[2] + (2*row[3]))/400, axis=1)\n",
    "df1.head(2)\n",
    "num_students = int(len(df) * 0.01)\n",
    "\n",
    "indicies = df1.final.argsort()\n",
    "\n",
    "df1.final[1424]\n",
    "filtered_students = df1.iloc[indicies[-num_students:]][::-1]\n",
    "ids = filtered_students.student_id.values\n",
    "\n",
    "print(ids)\n"
   ]
  },
  {
   "cell_type": "code",
   "execution_count": null,
   "metadata": {},
   "outputs": [],
   "source": []
  }
 ],
 "metadata": {
  "kernelspec": {
   "display_name": "Python 3",
   "language": "python",
   "name": "python3"
  },
  "language_info": {
   "codemirror_mode": {
    "name": "ipython",
    "version": 3
   },
   "file_extension": ".py",
   "mimetype": "text/x-python",
   "name": "python",
   "nbconvert_exporter": "python",
   "pygments_lexer": "ipython3",
   "version": "3.6.3"
  }
 },
 "nbformat": 4,
 "nbformat_minor": 2
}
